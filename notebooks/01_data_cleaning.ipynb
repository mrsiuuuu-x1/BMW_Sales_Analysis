{
 "cells": [
  {
   "cell_type": "markdown",
   "id": "5792124e",
   "metadata": {},
   "source": [
    "Importing libraries which will be used in this project"
   ]
  },
  {
   "cell_type": "code",
   "execution_count": null,
   "id": "5bd89834",
   "metadata": {},
   "outputs": [],
   "source": [
    "import pandas as pd\n",
    "import matplotlib.pyplot as pt\n",
    "import numpy as np\n",
    "import seaborn as sns"
   ]
  },
  {
   "cell_type": "markdown",
   "id": "bd63e301",
   "metadata": {},
   "source": [
    "Importing the CSV file "
   ]
  },
  {
   "cell_type": "code",
   "execution_count": null,
   "id": "d48c68fe",
   "metadata": {},
   "outputs": [],
   "source": [
    "df = pd.read_csv(\"../data/BMW_sales_data_2010_2024.csv\")\n",
    "# printing first few values of the dataset\n",
    "df.head(20)"
   ]
  }
 ],
 "metadata": {
  "kernelspec": {
   "display_name": "Python 3",
   "language": "python",
   "name": "python3"
  },
  "language_info": {
   "name": "python",
   "version": "3.13.5"
  }
 },
 "nbformat": 4,
 "nbformat_minor": 5
}
